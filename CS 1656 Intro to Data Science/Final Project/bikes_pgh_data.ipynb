{
 "cells": [
  {
   "cell_type": "markdown",
   "metadata": {},
   "source": [
    "# CS 1656 – Introduction to Data Science \n",
    "\n",
    "## Instructor: Xiaowei Jia\n",
    "### Teaching Assistants: Evangelos Karageorgos, Sonal Gupta\n",
    "\n",
    "\n",
    "## Term Project \n",
    "\n",
    "**Released: April 7, 2022**\n",
    "\n",
    "**Due: April 26, 2022**"
   ]
  },
  {
   "cell_type": "markdown",
   "metadata": {},
   "source": [
    "### Goal\n",
    "The goal of this project is to expose you with a real data science problem, looking at the end-to-end pipeline. \n",
    "\n",
    "### What to do \n",
    "You are asked to write a Python Jupyter notebook, called `bikes_pgh_data.ipynb` that will:\n",
    "* [Task 1] access historical bike rental data for 2021 from HealthyRidePGH and summarize the rental data  \n",
    "* [Task 2] create graphs to show the popularity of the different rental stations, given filter conditions  \n",
    "* [Task 3] cluster the data to group similar stations together, using a variety of clustering functions and visualize the results of the clustering.  \n",
    "\n",
    "**Your program should not take more than 15 minutes to run**\n",
    "\n",
    "### Jupyter Notebook Rules\n",
    "This skeleton is provided for you to complete the project. Please add your code in the code cells below each Task. Feel free to add cells as needed. Do not remove existing cells."
   ]
  },
  {
   "cell_type": "code",
   "execution_count": 186,
   "metadata": {},
   "outputs": [],
   "source": [
    "import matplotlib.pyplot as plt\n",
    "import pandas as pd\n",
    "\n",
    "from sklearn import cluster\n",
    "from sklearn.cluster import DBSCAN\n",
    "\n",
    "import numpy as np\n",
    "# Feel free to add here any other libraries as specified in the project description"
   ]
  },
  {
   "cell_type": "markdown",
   "metadata": {},
   "source": [
    "For the sake of interactive display in Jupyter, we will enable matplotlib inline."
   ]
  },
  {
   "cell_type": "code",
   "execution_count": 187,
   "metadata": {},
   "outputs": [],
   "source": [
    "%matplotlib inline"
   ]
  },
  {
   "cell_type": "markdown",
   "metadata": {},
   "source": [
    "### [Task 0] Warming Up\n",
    "Task 0 is for testing. It is used to ensure that this Jupyter Notebook skeleton works on both your machines and our machine. Please run the following code to see if you can see a line plot. The line plot is the basic plot that we have seen in Recitation2. "
   ]
  },
  {
   "cell_type": "code",
   "execution_count": 188,
   "metadata": {
    "scrolled": true
   },
   "outputs": [
    {
     "data": {
      "image/png": "[encoded data removed]",
      "text/plain": [
       "<Figure size 432x288 with 1 Axes>"
      ]
     },
     "metadata": {
      "needs_background": "light"
     },
     "output_type": "display_data"
    }
   ],
   "source": [
    "import datetime\n",
    "from pandas.plotting import register_matplotlib_converters\n",
    "register_matplotlib_converters()\n",
    "df = pd.read_csv('KPIT_Aug17.csv', sep=',', engine='python', parse_dates=['EST'])\n",
    "p1 = plt.plot(df['EST'],df['MeanDew PointF'])\n",
    "p2 = plt.plot(df['EST'],df['Mean TemperatureF'])\n",
    "plt.legend([p1[0],p2[0]], ['Mean Dew Point', 'Mean Temperature'])\n",
    "\n",
    "plt.show()"
   ]
  },
  {
   "cell_type": "markdown",
   "metadata": {},
   "source": [
    "--- \n",
    "Add your code below this line\n",
    "\n",
    "---\n",
    "### Task 1"
   ]
  },
  {
   "cell_type": "markdown",
   "metadata": {},
   "source": [
    "In this task you will need to access historical bike rental data for 2021 from HealthyRidePGH and summarize the rental data."
   ]
  },
  {
   "cell_type": "markdown",
   "metadata": {},
   "source": [
    "### Task 1.1"
   ]
  },
  {
   "cell_type": "code",
   "execution_count": 189,
   "metadata": {},
   "outputs": [
    {
     "name": "stderr",
     "output_type": "stream",
     "text": [
      "/var/folders/05/skbly5dd6ps2gw1n0sqr5s2r0000gp/T/ipykernel_61652/3364248705.py:6: SettingWithCopyWarning: \n",
      "A value is trying to be set on a copy of a slice from a DataFrame\n",
      "\n",
      "See the caveats in the documentation: https://pandas.pydata.org/pandas-docs/stable/user_guide/indexing.html#returning-a-view-versus-a-copy\n",
      "  df['fromdate'][i] = pd.Timestamp(df['fromdate'][i][0]).date()\n",
      "/var/folders/05/skbly5dd6ps2gw1n0sqr5s2r0000gp/T/ipykernel_61652/3364248705.py:7: SettingWithCopyWarning: \n",
      "A value is trying to be set on a copy of a slice from a DataFrame\n",
      "\n",
      "See the caveats in the documentation: https://pandas.pydata.org/pandas-docs/stable/user_guide/indexing.html#returning-a-view-versus-a-copy\n",
      "  df['todate'][i] = pd.Timestamp(df['todate'][i][0]).date()\n"
     ]
    },
    {
     "data": {
      "text/html": [
       "<div>\n",
       "<style scoped>\n",
       "    .dataframe tbody tr th:only-of-type {\n",
       "        vertical-align: middle;\n",
       "    }\n",
       "\n",
       "    .dataframe tbody tr th {\n",
       "        vertical-align: top;\n",
       "    }\n",
       "\n",
       "    .dataframe thead th {\n",
       "        text-align: right;\n",
       "    }\n",
       "</style>\n",
       "<table border=\"1\" class=\"dataframe\">\n",
       "  <thead>\n",
       "    <tr style=\"text-align: right;\">\n",
       "      <th></th>\n",
       "      <th>Station ID</th>\n",
       "      <th>Date</th>\n",
       "      <th>fromCNT</th>\n",
       "      <th>toCNT</th>\n",
       "      <th>RebalCNT</th>\n",
       "    </tr>\n",
       "  </thead>\n",
       "  <tbody>\n",
       "    <tr>\n",
       "      <th>0</th>\n",
       "      <td>1000.0</td>\n",
       "      <td>2021-01-02</td>\n",
       "      <td>1.0</td>\n",
       "      <td>0.0</td>\n",
       "      <td>1.0</td>\n",
       "    </tr>\n",
       "    <tr>\n",
       "      <th>1</th>\n",
       "      <td>1000.0</td>\n",
       "      <td>2021-01-03</td>\n",
       "      <td>0.0</td>\n",
       "      <td>1.0</td>\n",
       "      <td>1.0</td>\n",
       "    </tr>\n",
       "    <tr>\n",
       "      <th>2</th>\n",
       "      <td>1000.0</td>\n",
       "      <td>2021-01-04</td>\n",
       "      <td>3.0</td>\n",
       "      <td>0.0</td>\n",
       "      <td>3.0</td>\n",
       "    </tr>\n",
       "    <tr>\n",
       "      <th>3</th>\n",
       "      <td>1000.0</td>\n",
       "      <td>2021-01-05</td>\n",
       "      <td>2.0</td>\n",
       "      <td>3.0</td>\n",
       "      <td>1.0</td>\n",
       "    </tr>\n",
       "    <tr>\n",
       "      <th>4</th>\n",
       "      <td>1000.0</td>\n",
       "      <td>2021-01-06</td>\n",
       "      <td>1.0</td>\n",
       "      <td>1.0</td>\n",
       "      <td>0.0</td>\n",
       "    </tr>\n",
       "    <tr>\n",
       "      <th>5</th>\n",
       "      <td>1000.0</td>\n",
       "      <td>2021-01-07</td>\n",
       "      <td>2.0</td>\n",
       "      <td>1.0</td>\n",
       "      <td>1.0</td>\n",
       "    </tr>\n",
       "    <tr>\n",
       "      <th>6</th>\n",
       "      <td>1000.0</td>\n",
       "      <td>2021-01-08</td>\n",
       "      <td>0.0</td>\n",
       "      <td>3.0</td>\n",
       "      <td>3.0</td>\n",
       "    </tr>\n",
       "    <tr>\n",
       "      <th>7</th>\n",
       "      <td>1000.0</td>\n",
       "      <td>2021-01-10</td>\n",
       "      <td>3.0</td>\n",
       "      <td>2.0</td>\n",
       "      <td>1.0</td>\n",
       "    </tr>\n",
       "    <tr>\n",
       "      <th>8</th>\n",
       "      <td>1000.0</td>\n",
       "      <td>2021-01-11</td>\n",
       "      <td>1.0</td>\n",
       "      <td>1.0</td>\n",
       "      <td>0.0</td>\n",
       "    </tr>\n",
       "    <tr>\n",
       "      <th>9</th>\n",
       "      <td>1000.0</td>\n",
       "      <td>2021-01-12</td>\n",
       "      <td>1.0</td>\n",
       "      <td>3.0</td>\n",
       "      <td>2.0</td>\n",
       "    </tr>\n",
       "    <tr>\n",
       "      <th>10</th>\n",
       "      <td>1000.0</td>\n",
       "      <td>2021-01-13</td>\n",
       "      <td>0.0</td>\n",
       "      <td>1.0</td>\n",
       "      <td>1.0</td>\n",
       "    </tr>\n",
       "    <tr>\n",
       "      <th>11</th>\n",
       "      <td>1000.0</td>\n",
       "      <td>2021-01-14</td>\n",
       "      <td>1.0</td>\n",
       "      <td>2.0</td>\n",
       "      <td>1.0</td>\n",
       "    </tr>\n",
       "    <tr>\n",
       "      <th>12</th>\n",
       "      <td>1000.0</td>\n",
       "      <td>2021-01-15</td>\n",
       "      <td>1.0</td>\n",
       "      <td>2.0</td>\n",
       "      <td>1.0</td>\n",
       "    </tr>\n",
       "    <tr>\n",
       "      <th>13</th>\n",
       "      <td>1000.0</td>\n",
       "      <td>2021-01-16</td>\n",
       "      <td>0.0</td>\n",
       "      <td>1.0</td>\n",
       "      <td>1.0</td>\n",
       "    </tr>\n",
       "    <tr>\n",
       "      <th>14</th>\n",
       "      <td>1000.0</td>\n",
       "      <td>2021-01-17</td>\n",
       "      <td>0.0</td>\n",
       "      <td>2.0</td>\n",
       "      <td>2.0</td>\n",
       "    </tr>\n",
       "    <tr>\n",
       "      <th>15</th>\n",
       "      <td>1000.0</td>\n",
       "      <td>2021-01-18</td>\n",
       "      <td>1.0</td>\n",
       "      <td>1.0</td>\n",
       "      <td>0.0</td>\n",
       "    </tr>\n",
       "    <tr>\n",
       "      <th>16</th>\n",
       "      <td>1000.0</td>\n",
       "      <td>2021-01-19</td>\n",
       "      <td>1.0</td>\n",
       "      <td>1.0</td>\n",
       "      <td>0.0</td>\n",
       "    </tr>\n",
       "    <tr>\n",
       "      <th>17</th>\n",
       "      <td>1000.0</td>\n",
       "      <td>2021-01-23</td>\n",
       "      <td>5.0</td>\n",
       "      <td>1.0</td>\n",
       "      <td>4.0</td>\n",
       "    </tr>\n",
       "    <tr>\n",
       "      <th>18</th>\n",
       "      <td>1000.0</td>\n",
       "      <td>2021-01-30</td>\n",
       "      <td>0.0</td>\n",
       "      <td>3.0</td>\n",
       "      <td>3.0</td>\n",
       "    </tr>\n",
       "    <tr>\n",
       "      <th>19</th>\n",
       "      <td>1000.0</td>\n",
       "      <td>2021-02-01</td>\n",
       "      <td>1.0</td>\n",
       "      <td>0.0</td>\n",
       "      <td>1.0</td>\n",
       "    </tr>\n",
       "  </tbody>\n",
       "</table>\n",
       "</div>"
      ],
      "text/plain": [
       "    Station ID        Date  fromCNT  toCNT  RebalCNT\n",
       "0       1000.0  2021-01-02      1.0    0.0       1.0\n",
       "1       1000.0  2021-01-03      0.0    1.0       1.0\n",
       "2       1000.0  2021-01-04      3.0    0.0       3.0\n",
       "3       1000.0  2021-01-05      2.0    3.0       1.0\n",
       "4       1000.0  2021-01-06      1.0    1.0       0.0\n",
       "5       1000.0  2021-01-07      2.0    1.0       1.0\n",
       "6       1000.0  2021-01-08      0.0    3.0       3.0\n",
       "7       1000.0  2021-01-10      3.0    2.0       1.0\n",
       "8       1000.0  2021-01-11      1.0    1.0       0.0\n",
       "9       1000.0  2021-01-12      1.0    3.0       2.0\n",
       "10      1000.0  2021-01-13      0.0    1.0       1.0\n",
       "11      1000.0  2021-01-14      1.0    2.0       1.0\n",
       "12      1000.0  2021-01-15      1.0    2.0       1.0\n",
       "13      1000.0  2021-01-16      0.0    1.0       1.0\n",
       "14      1000.0  2021-01-17      0.0    2.0       2.0\n",
       "15      1000.0  2021-01-18      1.0    1.0       0.0\n",
       "16      1000.0  2021-01-19      1.0    1.0       0.0\n",
       "17      1000.0  2021-01-23      5.0    1.0       4.0\n",
       "18      1000.0  2021-01-30      0.0    3.0       3.0\n",
       "19      1000.0  2021-02-01      1.0    0.0       1.0"
      ]
     },
     "execution_count": 189,
     "metadata": {},
     "output_type": "execute_result"
    }
   ],
   "source": [
    "df = pd.concat(map(pd.read_csv, ['HealthyRideRentals2021-Q1.csv', 'HealthyRideRentals2021-Q2.csv' ,'HealthyRideRentals2021-Q3.csv']), ignore_index=True)\n",
    "\n",
    "df['fromdate'] = df['Starttime'].str.split()\n",
    "df['todate'] = df['Stoptime'].str.split()\n",
    "for i in df.index:\n",
    "    df['fromdate'][i] = pd.Timestamp(df['fromdate'][i][0]).date()\n",
    "    df['todate'][i] = pd.Timestamp(df['todate'][i][0]).date()\n",
    "    \n",
    "df = df[['From station id', 'To station id', 'fromdate', 'todate', 'Starttime', 'Bikeid']]\n",
    "to_df = df[['To station id','todate']]\n",
    "from_df = df[['From station id','fromdate']]\n",
    "\n",
    "from_df_grouped = from_df.groupby(['From station id', 'fromdate']).size()\n",
    "new_from_df = from_df_grouped.to_frame(name='fromCNT').reset_index()\n",
    "new_from_df.columns = ['Station ID', 'Date', 'fromCNT']\n",
    "\n",
    "to_df_grouped = to_df.groupby(['To station id', 'todate']).size()\n",
    "new_to_df = to_df_grouped.to_frame(name='toCNT').reset_index()\n",
    "new_to_df.columns = ['Station ID', 'Date','toCNT']\n",
    "\n",
    "main_df = new_from_df.append(new_to_df, ignore_index = True)\n",
    "main_df = main_df.sort_values(['Station ID', 'Date']).fillna(0).reset_index()\n",
    "main_df = main_df[['Station ID', 'Date', 'fromCNT', 'toCNT']]\n",
    "main_df = main_df.groupby(['Station ID', 'Date']).agg({'fromCNT':sum, 'toCNT':sum}).reset_index()\n",
    "\n",
    "main_df['RebalCNT'] = abs(main_df['fromCNT'] - main_df['toCNT'])\n",
    "main_df.head(20)\n"
   ]
  },
  {
   "cell_type": "markdown",
   "metadata": {},
   "source": [
    "### Task 1.2"
   ]
  },
  {
   "cell_type": "code",
   "execution_count": 190,
   "metadata": {},
   "outputs": [
    {
     "name": "stderr",
     "output_type": "stream",
     "text": [
      "/var/folders/05/skbly5dd6ps2gw1n0sqr5s2r0000gp/T/ipykernel_61652/1397689807.py:6: SettingWithCopyWarning: \n",
      "A value is trying to be set on a copy of a slice from a DataFrame\n",
      "\n",
      "See the caveats in the documentation: https://pandas.pydata.org/pandas-docs/stable/user_guide/indexing.html#returning-a-view-versus-a-copy\n",
      "  month_df['Month'][i] = month_df['Month'][i].month\n"
     ]
    },
    {
     "data": {
      "text/html": [
       "<div>\n",
       "<style scoped>\n",
       "    .dataframe tbody tr th:only-of-type {\n",
       "        vertical-align: middle;\n",
       "    }\n",
       "\n",
       "    .dataframe tbody tr th {\n",
       "        vertical-align: top;\n",
       "    }\n",
       "\n",
       "    .dataframe thead th {\n",
       "        text-align: right;\n",
       "    }\n",
       "</style>\n",
       "<table border=\"1\" class=\"dataframe\">\n",
       "  <thead>\n",
       "    <tr style=\"text-align: right;\">\n",
       "      <th></th>\n",
       "      <th>Station ID</th>\n",
       "      <th>Month</th>\n",
       "      <th>fromCNT</th>\n",
       "      <th>toCNT</th>\n",
       "      <th>RebalCNT</th>\n",
       "    </tr>\n",
       "  </thead>\n",
       "  <tbody>\n",
       "    <tr>\n",
       "      <th>0</th>\n",
       "      <td>1000.0</td>\n",
       "      <td>1</td>\n",
       "      <td>23.0</td>\n",
       "      <td>29.0</td>\n",
       "      <td>26.0</td>\n",
       "    </tr>\n",
       "    <tr>\n",
       "      <th>1</th>\n",
       "      <td>1000.0</td>\n",
       "      <td>2</td>\n",
       "      <td>33.0</td>\n",
       "      <td>36.0</td>\n",
       "      <td>19.0</td>\n",
       "    </tr>\n",
       "    <tr>\n",
       "      <th>2</th>\n",
       "      <td>1000.0</td>\n",
       "      <td>3</td>\n",
       "      <td>399.0</td>\n",
       "      <td>441.0</td>\n",
       "      <td>86.0</td>\n",
       "    </tr>\n",
       "    <tr>\n",
       "      <th>3</th>\n",
       "      <td>1000.0</td>\n",
       "      <td>4</td>\n",
       "      <td>553.0</td>\n",
       "      <td>592.0</td>\n",
       "      <td>109.0</td>\n",
       "    </tr>\n",
       "    <tr>\n",
       "      <th>4</th>\n",
       "      <td>1000.0</td>\n",
       "      <td>5</td>\n",
       "      <td>834.0</td>\n",
       "      <td>881.0</td>\n",
       "      <td>135.0</td>\n",
       "    </tr>\n",
       "    <tr>\n",
       "      <th>5</th>\n",
       "      <td>1000.0</td>\n",
       "      <td>6</td>\n",
       "      <td>811.0</td>\n",
       "      <td>833.0</td>\n",
       "      <td>98.0</td>\n",
       "    </tr>\n",
       "    <tr>\n",
       "      <th>6</th>\n",
       "      <td>1000.0</td>\n",
       "      <td>9</td>\n",
       "      <td>409.0</td>\n",
       "      <td>470.0</td>\n",
       "      <td>101.0</td>\n",
       "    </tr>\n",
       "    <tr>\n",
       "      <th>7</th>\n",
       "      <td>1001.0</td>\n",
       "      <td>1</td>\n",
       "      <td>18.0</td>\n",
       "      <td>27.0</td>\n",
       "      <td>19.0</td>\n",
       "    </tr>\n",
       "    <tr>\n",
       "      <th>8</th>\n",
       "      <td>1001.0</td>\n",
       "      <td>2</td>\n",
       "      <td>14.0</td>\n",
       "      <td>25.0</td>\n",
       "      <td>19.0</td>\n",
       "    </tr>\n",
       "    <tr>\n",
       "      <th>9</th>\n",
       "      <td>1001.0</td>\n",
       "      <td>3</td>\n",
       "      <td>180.0</td>\n",
       "      <td>221.0</td>\n",
       "      <td>73.0</td>\n",
       "    </tr>\n",
       "    <tr>\n",
       "      <th>10</th>\n",
       "      <td>1001.0</td>\n",
       "      <td>4</td>\n",
       "      <td>236.0</td>\n",
       "      <td>255.0</td>\n",
       "      <td>89.0</td>\n",
       "    </tr>\n",
       "    <tr>\n",
       "      <th>11</th>\n",
       "      <td>1001.0</td>\n",
       "      <td>5</td>\n",
       "      <td>342.0</td>\n",
       "      <td>362.0</td>\n",
       "      <td>82.0</td>\n",
       "    </tr>\n",
       "    <tr>\n",
       "      <th>12</th>\n",
       "      <td>1001.0</td>\n",
       "      <td>6</td>\n",
       "      <td>366.0</td>\n",
       "      <td>388.0</td>\n",
       "      <td>104.0</td>\n",
       "    </tr>\n",
       "    <tr>\n",
       "      <th>13</th>\n",
       "      <td>1001.0</td>\n",
       "      <td>9</td>\n",
       "      <td>234.0</td>\n",
       "      <td>251.0</td>\n",
       "      <td>61.0</td>\n",
       "    </tr>\n",
       "    <tr>\n",
       "      <th>14</th>\n",
       "      <td>1001.0</td>\n",
       "      <td>10</td>\n",
       "      <td>0.0</td>\n",
       "      <td>1.0</td>\n",
       "      <td>1.0</td>\n",
       "    </tr>\n",
       "    <tr>\n",
       "      <th>15</th>\n",
       "      <td>1002.0</td>\n",
       "      <td>1</td>\n",
       "      <td>27.0</td>\n",
       "      <td>27.0</td>\n",
       "      <td>18.0</td>\n",
       "    </tr>\n",
       "    <tr>\n",
       "      <th>16</th>\n",
       "      <td>1002.0</td>\n",
       "      <td>2</td>\n",
       "      <td>27.0</td>\n",
       "      <td>28.0</td>\n",
       "      <td>25.0</td>\n",
       "    </tr>\n",
       "    <tr>\n",
       "      <th>17</th>\n",
       "      <td>1002.0</td>\n",
       "      <td>3</td>\n",
       "      <td>125.0</td>\n",
       "      <td>142.0</td>\n",
       "      <td>51.0</td>\n",
       "    </tr>\n",
       "    <tr>\n",
       "      <th>18</th>\n",
       "      <td>1002.0</td>\n",
       "      <td>4</td>\n",
       "      <td>145.0</td>\n",
       "      <td>156.0</td>\n",
       "      <td>53.0</td>\n",
       "    </tr>\n",
       "    <tr>\n",
       "      <th>19</th>\n",
       "      <td>1002.0</td>\n",
       "      <td>5</td>\n",
       "      <td>97.0</td>\n",
       "      <td>87.0</td>\n",
       "      <td>50.0</td>\n",
       "    </tr>\n",
       "  </tbody>\n",
       "</table>\n",
       "</div>"
      ],
      "text/plain": [
       "    Station ID  Month  fromCNT  toCNT  RebalCNT\n",
       "0       1000.0      1     23.0   29.0      26.0\n",
       "1       1000.0      2     33.0   36.0      19.0\n",
       "2       1000.0      3    399.0  441.0      86.0\n",
       "3       1000.0      4    553.0  592.0     109.0\n",
       "4       1000.0      5    834.0  881.0     135.0\n",
       "5       1000.0      6    811.0  833.0      98.0\n",
       "6       1000.0      9    409.0  470.0     101.0\n",
       "7       1001.0      1     18.0   27.0      19.0\n",
       "8       1001.0      2     14.0   25.0      19.0\n",
       "9       1001.0      3    180.0  221.0      73.0\n",
       "10      1001.0      4    236.0  255.0      89.0\n",
       "11      1001.0      5    342.0  362.0      82.0\n",
       "12      1001.0      6    366.0  388.0     104.0\n",
       "13      1001.0      9    234.0  251.0      61.0\n",
       "14      1001.0     10      0.0    1.0       1.0\n",
       "15      1002.0      1     27.0   27.0      18.0\n",
       "16      1002.0      2     27.0   28.0      25.0\n",
       "17      1002.0      3    125.0  142.0      51.0\n",
       "18      1002.0      4    145.0  156.0      53.0\n",
       "19      1002.0      5     97.0   87.0      50.0"
      ]
     },
     "execution_count": 190,
     "metadata": {},
     "output_type": "execute_result"
    }
   ],
   "source": [
    "month_df = main_df.copy()\n",
    "\n",
    "month_df['Month'] = month_df['Date']\n",
    "\n",
    "for i in month_df.index:\n",
    "    month_df['Month'][i] = month_df['Month'][i].month\n",
    "\n",
    "month_df = month_df.groupby(['Station ID' ,'Month']).agg({'fromCNT':sum, 'toCNT':sum, 'RebalCNT':sum}).reset_index()\n",
    "month_df.head(20)"
   ]
  },
  {
   "cell_type": "markdown",
   "metadata": {},
   "source": [
    "---\n",
    "### Task 2"
   ]
  },
  {
   "cell_type": "markdown",
   "metadata": {},
   "source": [
    "In this task you will need to create graphs to show the popularity of the different rental stations, given filter conditions."
   ]
  },
  {
   "cell_type": "code",
   "execution_count": 191,
   "metadata": {},
   "outputs": [],
   "source": [
    "# FILTER VARIABLES -- feel free to edit the values, but the names of the variables must remain \n",
    "#                     as they are and should be used by your code accordingly from this point on\n",
    "\n",
    "filter_month = 4\n",
    "filter_stationID = 1046\n"
   ]
  },
  {
   "cell_type": "markdown",
   "metadata": {},
   "source": [
    "### Task 2.1"
   ]
  },
  {
   "cell_type": "code",
   "execution_count": 192,
   "metadata": {},
   "outputs": [
    {
     "name": "stderr",
     "output_type": "stream",
     "text": [
      "/var/folders/05/skbly5dd6ps2gw1n0sqr5s2r0000gp/T/ipykernel_61652/1485470515.py:6: SettingWithCopyWarning: \n",
      "A value is trying to be set on a copy of a slice from a DataFrame\n",
      "\n",
      "See the caveats in the documentation: https://pandas.pydata.org/pandas-docs/stable/user_guide/indexing.html#returning-a-view-versus-a-copy\n",
      "  month_station_df['Month'][i] = month_station_df['Month'][i].month\n"
     ]
    },
    {
     "data": {
      "image/png": "[encoded data removed]",
      "text/plain": [
       "<Figure size 1440x432 with 1 Axes>"
      ]
     },
     "metadata": {
      "needs_background": "light"
     },
     "output_type": "display_data"
    }
   ],
   "source": [
    "month_station_df = main_df[['Station ID', 'Date', 'fromCNT']].copy()\n",
    "\n",
    "month_station_df['Month'] = month_station_df['Date']\n",
    "\n",
    "for i in month_station_df.index:\n",
    "    month_station_df['Month'][i] = month_station_df['Month'][i].month\n",
    "    \n",
    "month_station_df = month_station_df[['Station ID', 'fromCNT', 'Month']]\n",
    "\n",
    "month_station_df = month_station_df.loc[month_station_df['Month']==filter_month]\n",
    "\n",
    "month_station_df_grouped = month_station_df.groupby(['Station ID']).agg({'fromCNT':sum}).reset_index()\n",
    "\n",
    "month_station_df_grouped = month_station_df_grouped.sort_values('fromCNT', ascending = False).head(20)\n",
    "\n",
    "fig = plt.figure(figsize=(20, 6))\n",
    "plt.bar(range(len(month_station_df_grouped['Station ID'])), month_station_df_grouped['fromCNT'])\n",
    "plt.xticks(range(len(month_station_df_grouped['Station ID'])), month_station_df_grouped['Station ID'],\\\n",
    "               rotation = 45, fontsize = 8)\n",
    "plt.xlabel('Station ID')\n",
    "plt.ylabel('Bikes Rented')\n",
    "\n",
    "plt.title('Top 20 Stations with Bikes Rented for Filter Month')\n",
    "plt.show()\n"
   ]
  },
  {
   "cell_type": "markdown",
   "metadata": {},
   "source": [
    "### Task 2.2"
   ]
  },
  {
   "cell_type": "code",
   "execution_count": 193,
   "metadata": {},
   "outputs": [
    {
     "name": "stderr",
     "output_type": "stream",
     "text": [
      "/var/folders/05/skbly5dd6ps2gw1n0sqr5s2r0000gp/T/ipykernel_61652/560335281.py:11: SettingWithCopyWarning: \n",
      "A value is trying to be set on a copy of a slice from a DataFrame\n",
      "\n",
      "See the caveats in the documentation: https://pandas.pydata.org/pandas-docs/stable/user_guide/indexing.html#returning-a-view-versus-a-copy\n",
      "  month_station_df['Month'][i] = month_station_df['Month'][i].month\n",
      "/var/folders/05/skbly5dd6ps2gw1n0sqr5s2r0000gp/T/ipykernel_61652/560335281.py:12: SettingWithCopyWarning: \n",
      "A value is trying to be set on a copy of a slice from a DataFrame\n",
      "\n",
      "See the caveats in the documentation: https://pandas.pydata.org/pandas-docs/stable/user_guide/indexing.html#returning-a-view-versus-a-copy\n",
      "  month_station_df['Date'][i] = month_station_df['Date'][i].day\n"
     ]
    },
    {
     "data": {
      "image/png": "[encoded data removed]",
      "text/plain": [
       "<Figure size 1440x432 with 1 Axes>"
      ]
     },
     "metadata": {
      "needs_background": "light"
     },
     "output_type": "display_data"
    }
   ],
   "source": [
    "\n",
    "num_to_month = {1:31, 2:28, 3:31, 4:30, \n",
    "                5:31, 6:30, 7:31, 8:31, 9:30, \n",
    "                10:31, 11:30, 12:31}\n",
    "\n",
    "\n",
    "month_station_df = main_df[['Station ID', 'Date', 'fromCNT']].copy()\n",
    "\n",
    "month_station_df['Month'] = month_station_df['Date']\n",
    "\n",
    "for i in month_station_df.index:\n",
    "    month_station_df['Month'][i] = month_station_df['Month'][i].month\n",
    "    month_station_df['Date'][i] = month_station_df['Date'][i].day\n",
    "    \n",
    "month_station_df = month_station_df[['Station ID', 'fromCNT', 'Month', 'Date']]\n",
    "\n",
    "month_station_df = month_station_df.loc[month_station_df['Month']==filter_month]\n",
    "month_station_df = month_station_df.loc[month_station_df['Station ID']==filter_stationID]\n",
    "\n",
    "month_station_df_grouped = month_station_df.groupby(['Date']).agg({'fromCNT':sum}).reset_index()\n",
    "\n",
    "fig = plt.figure(figsize=(20, 6))\n",
    "plt.bar(range(len(month_station_df_grouped['Date'])), month_station_df_grouped['fromCNT'])\n",
    "plt.xticks(range(len(month_station_df_grouped['Date'])), month_station_df_grouped['Date'],\\\n",
    "               rotation = 45, fontsize = 8)\n",
    "plt.xlabel('Day')\n",
    "plt.ylabel('Bikes Rented')\n",
    "\n",
    "plt.title('Bikes rented per day at Filter Station in Filter Month')\n",
    "plt.show()\n"
   ]
  },
  {
   "cell_type": "markdown",
   "metadata": {},
   "source": [
    "### Task 2.3"
   ]
  },
  {
   "cell_type": "code",
   "execution_count": 194,
   "metadata": {},
   "outputs": [
    {
     "data": {
      "image/png": "[encoded data removed]",
      "text/plain": [
       "<Figure size 1440x432 with 1 Axes>"
      ]
     },
     "metadata": {
      "needs_background": "light"
     },
     "output_type": "display_data"
    }
   ],
   "source": [
    "hour_df = df[['Starttime']].copy()\n",
    "\n",
    "hour_df['date'] = hour_df['Starttime'].str.split()\n",
    "hour_df['time'] = hour_df['Starttime'].str.split()\n",
    "\n",
    "for i in hour_df.index:\n",
    "    hour_df['date'][i] = pd.Timestamp(hour_df['date'][i][0]).date()\n",
    "    hour_df['time'][i] = pd.Timestamp(hour_df['time'][i][1]).time()\n",
    "    \n",
    "\n",
    "hour_df['Month'] = hour_df['date']\n",
    "hour_df['Hour'] = hour_df['time']\n",
    "\n",
    "for i in hour_df.index:\n",
    "    hour_df['Month'][i] = hour_df['Month'][i].month\n",
    "    hour_df['Hour'][i] = hour_df['Hour'][i].hour\n",
    "\n",
    "hour_df = hour_df[['Month', 'Hour']]\n",
    "\n",
    "\n",
    "hour_df = hour_df.loc[hour_df['Month']==filter_month]\n",
    "hour_df_grouped = hour_df.groupby(['Hour']).count().reset_index()\n",
    "\n",
    "fig = plt.figure(figsize=(20, 6))\n",
    "plt.bar(range(len(hour_df_grouped['Hour'])), hour_df_grouped['Month'])\n",
    "plt.xticks(range(len(hour_df_grouped['Hour'])), hour_df_grouped['Hour'],\\\n",
    "               rotation = 45, fontsize = 8)\n",
    "plt.xlabel('Hour')\n",
    "plt.ylabel('Bikes Rented')\n",
    "\n",
    "plt.title('Bikes rented per hour in Filter Month')\n",
    "plt.show()\n"
   ]
  },
  {
   "cell_type": "markdown",
   "metadata": {},
   "source": [
    "### Task 2.4"
   ]
  },
  {
   "cell_type": "code",
   "execution_count": 195,
   "metadata": {},
   "outputs": [
    {
     "name": "stderr",
     "output_type": "stream",
     "text": [
      "/var/folders/05/skbly5dd6ps2gw1n0sqr5s2r0000gp/T/ipykernel_61652/2468396334.py:7: SettingWithCopyWarning: \n",
      "A value is trying to be set on a copy of a slice from a DataFrame\n",
      "\n",
      "See the caveats in the documentation: https://pandas.pydata.org/pandas-docs/stable/user_guide/indexing.html#returning-a-view-versus-a-copy\n",
      "  bike_df['Month'][i] = bike_df['Month'][i].month\n",
      "/var/folders/05/skbly5dd6ps2gw1n0sqr5s2r0000gp/T/ipykernel_61652/2468396334.py:8: SettingWithCopyWarning: \n",
      "A value is trying to be set on a copy of a slice from a DataFrame\n",
      "\n",
      "See the caveats in the documentation: https://pandas.pydata.org/pandas-docs/stable/user_guide/indexing.html#returning-a-view-versus-a-copy\n",
      "  bike_df['Day'][i] = bike_df['Day'][i].day\n"
     ]
    },
    {
     "data": {
      "image/png": "[encoded data removed]",
      "text/plain": [
       "<Figure size 1440x432 with 1 Axes>"
      ]
     },
     "metadata": {
      "needs_background": "light"
     },
     "output_type": "display_data"
    }
   ],
   "source": [
    "bike_df = df[['Bikeid', 'fromdate']].copy()\n",
    "\n",
    "bike_df['Month'] = bike_df['fromdate']\n",
    "bike_df['Day'] = bike_df['fromdate']\n",
    "\n",
    "for i in bike_df.index:\n",
    "    bike_df['Month'][i] = bike_df['Month'][i].month\n",
    "    bike_df['Day'][i] = bike_df['Day'][i].day\n",
    "\n",
    "    \n",
    "    \n",
    "bike_df = bike_df[['Bikeid', 'Month', 'Day']]\n",
    "\n",
    "bike_df = bike_df.loc[bike_df['Month']==filter_month]\n",
    "\n",
    "bike_df_grouped = bike_df.groupby(['Bikeid']).count().reset_index()\n",
    "\n",
    "bike_df_grouped = bike_df_grouped[['Bikeid', 'Month']]\n",
    "\n",
    "bike_df_grouped.columns = ['Bike ID', 'Count']\n",
    "\n",
    "bike_df_grouped = bike_df_grouped.sort_values('Count', ascending = False).head(20)\n",
    "\n",
    "\n",
    "fig = plt.figure(figsize=(20, 6))\n",
    "plt.bar(range(len(bike_df_grouped['Bike ID'])), bike_df_grouped['Count'])\n",
    "plt.xticks(range(len(bike_df_grouped['Bike ID'])), bike_df_grouped['Bike ID'],\\\n",
    "               rotation = 45, fontsize = 8)\n",
    "plt.xlabel('Bike ID')\n",
    "plt.ylabel('Count ')\n",
    "\n",
    "plt.title('20 most popular bikes per filter month')\n",
    "plt.show()\n"
   ]
  },
  {
   "cell_type": "markdown",
   "metadata": {},
   "source": [
    "---\n",
    "### Task 3"
   ]
  },
  {
   "cell_type": "markdown",
   "metadata": {},
   "source": [
    "In this task you will cluster the data to group similar stations together, using a variety of clustering functions and visualize the results of the clustering."
   ]
  },
  {
   "cell_type": "markdown",
   "metadata": {},
   "source": [
    "### Task 3.1"
   ]
  },
  {
   "cell_type": "code",
   "execution_count": 196,
   "metadata": {},
   "outputs": [
    {
     "name": "stderr",
     "output_type": "stream",
     "text": [
      "/var/folders/05/skbly5dd6ps2gw1n0sqr5s2r0000gp/T/ipykernel_61652/2336546113.py:6: SettingWithCopyWarning: \n",
      "A value is trying to be set on a copy of a slice from a DataFrame\n",
      "\n",
      "See the caveats in the documentation: https://pandas.pydata.org/pandas-docs/stable/user_guide/indexing.html#returning-a-view-versus-a-copy\n",
      "  month_station_df['Month'][i] = month_station_df['Month'][i].month\n"
     ]
    }
   ],
   "source": [
    "month_station_df = main_df[['Station ID', 'Date', 'fromCNT' ,'RebalCNT']].copy()\n",
    "\n",
    "month_station_df['Month'] = month_station_df['Date']\n",
    "\n",
    "for i in month_station_df.index:\n",
    "    month_station_df['Month'][i] = month_station_df['Month'][i].month\n",
    "\n",
    "month_4_station_df = month_station_df.loc[(month_station_df['Month']==4)]\n",
    "\n",
    "month_5_station_df = month_station_df.loc[(month_station_df['Month']==5)]\n",
    "\n",
    "month_6_station_df = month_station_df.loc[(month_station_df['Month']==6)]\n",
    "\n",
    "month_4_station_df_grouped = month_4_station_df.groupby(['Month', 'Station ID']).agg({'fromCNT':sum, 'RebalCNT':sum}).reset_index()\n",
    "\n",
    "month_5_station_df_grouped = month_5_station_df.groupby(['Month', 'Station ID']).agg({'fromCNT':sum, 'RebalCNT':sum}).reset_index()\n",
    "\n",
    "month_6_station_df_grouped = month_6_station_df.groupby(['Month', 'Station ID']).agg({'fromCNT':sum, 'RebalCNT':sum}).reset_index()\n",
    "\n",
    "combine = pd.merge(month_4_station_df_grouped,month_5_station_df_grouped, on = 'Station ID')\n",
    "combined = pd.merge(combine, month_6_station_df_grouped, on = 'Station ID')\n",
    "\n",
    "combined = combined[['Station ID', 'fromCNT_x', 'RebalCNT_x', 'fromCNT_y', 'RebalCNT_y', 'fromCNT', 'RebalCNT']]\n",
    "\n",
    "combined.columns = ['Station ID', 'fromCNT_4', 'RebalCNT_4', 'fromCNT_5', 'RebalCNT_5', 'fromCNT_6', 'RebalCNT_6']\n",
    "\n",
    "combined = combined.set_index('Station ID')\n"
   ]
  },
  {
   "cell_type": "code",
   "execution_count": null,
   "metadata": {},
   "outputs": [],
   "source": [
    "\n"
   ]
  },
  {
   "cell_type": "code",
   "execution_count": 197,
   "metadata": {},
   "outputs": [
    {
     "data": {
      "text/plain": [
       "DBSCAN(eps=75, min_samples=60)"
      ]
     },
     "execution_count": 197,
     "metadata": {},
     "output_type": "execute_result"
    }
   ],
   "source": [
    "k_means_1 = cluster.KMeans(n_clusters =5, init = 'k-means++', random_state = 5000)\n",
    "k_means_2 = cluster.KMeans(n_clusters =10, init = 'k-means++', random_state = 5000)\n",
    "k_means_3 = cluster.KMeans(n_clusters =8, init = 'k-means++', random_state = 5000)\n",
    "\n",
    "db_1 = DBSCAN(eps=50, min_samples = 25)\n",
    "db_2 = DBSCAN(eps=100, min_samples = 25)\n",
    "db_3 = DBSCAN(eps = 75, min_samples = 60)\n",
    "\n",
    "k_means_1.fit(combined)\n",
    "k_means_2.fit(combined)\n",
    "k_means_3.fit(combined)\n",
    "\n",
    "db_1.fit(combined)\n",
    "db_2.fit(combined)\n",
    "db_3.fit(combined)"
   ]
  },
  {
   "cell_type": "markdown",
   "metadata": {},
   "source": [
    "### Task 3.2"
   ]
  },
  {
   "cell_type": "code",
   "execution_count": 198,
   "metadata": {},
   "outputs": [
    {
     "data": {
      "image/png": "[encoded data removed]",
      "text/plain": [
       "<Figure size 1440x432 with 1 Axes>"
      ]
     },
     "metadata": {
      "needs_background": "light"
     },
     "output_type": "display_data"
    },
    {
     "data": {
      "image/png": "[encoded data removed]",
      "text/plain": [
       "<Figure size 1440x432 with 1 Axes>"
      ]
     },
     "metadata": {
      "needs_background": "light"
     },
     "output_type": "display_data"
    },
    {
     "data": {
      "image/png": "[encoded data removed]",
      "text/plain": [
       "<Figure size 1440x432 with 1 Axes>"
      ]
     },
     "metadata": {
      "needs_background": "light"
     },
     "output_type": "display_data"
    },
    {
     "data": {
      "image/png": "[encoded data removed]",
      "text/plain": [
       "<Figure size 1440x432 with 1 Axes>"
      ]
     },
     "metadata": {
      "needs_background": "light"
     },
     "output_type": "display_data"
    },
    {
     "data": {
      "image/png": "[encoded data removed]",
      "text/plain": [
       "<Figure size 1440x432 with 1 Axes>"
      ]
     },
     "metadata": {
      "needs_background": "light"
     },
     "output_type": "display_data"
    },
    {
     "data": {
      "image/png": "[encoded data removed]",
      "text/plain": [
       "<Figure size 1440x432 with 1 Axes>"
      ]
     },
     "metadata": {
      "needs_background": "light"
     },
     "output_type": "display_data"
    }
   ],
   "source": [
    "unique, counts = np.unique(k_means_1.labels_, return_counts=True)\n",
    "\n",
    "kmeansdf=pd.DataFrame({'Cluster':unique, 'Count':counts})\n",
    "\n",
    "kmeansdf = kmeansdf.sort_values('Count', ascending = False)\n",
    "\n",
    "fig = plt.figure(figsize=(20, 6))\n",
    "plt.bar(range(len(kmeansdf['Cluster'])), kmeansdf['Count'])\n",
    "plt.xticks(range(len(kmeansdf['Cluster'])), kmeansdf['Cluster'],\\\n",
    "               rotation = 45, fontsize = 8)\n",
    "plt.xlabel('Cluster ID')\n",
    "plt.ylabel('Count')\n",
    "\n",
    "plt.title('Stations per cluster for k means with 5 clusters')\n",
    "plt.show()\n",
    "\n",
    "\n",
    "\n",
    "\n",
    "unique, counts = np.unique(k_means_2.labels_, return_counts=True)\n",
    "\n",
    "kmeansdf=pd.DataFrame({'Cluster':unique, 'Count':counts})\n",
    "\n",
    "kmeansdf = kmeansdf.sort_values('Count', ascending = False)\n",
    "\n",
    "fig = plt.figure(figsize=(20, 6))\n",
    "plt.bar(range(len(kmeansdf['Cluster'])), kmeansdf['Count'])\n",
    "plt.xticks(range(len(kmeansdf['Cluster'])), kmeansdf['Cluster'],\\\n",
    "               rotation = 45, fontsize = 8)\n",
    "plt.xlabel('Cluster ID')\n",
    "plt.ylabel('Count')\n",
    "\n",
    "plt.title('Stations per cluster for k means with 10 clusters')\n",
    "plt.show()\n",
    "\n",
    "\n",
    "\n",
    "unique, counts = np.unique(k_means_3.labels_, return_counts=True)\n",
    "\n",
    "kmeansdf=pd.DataFrame({'Cluster':unique, 'Count':counts})\n",
    "\n",
    "kmeansdf = kmeansdf.sort_values('Count', ascending = False)\n",
    "\n",
    "fig = plt.figure(figsize=(20, 6))\n",
    "plt.bar(range(len(kmeansdf['Cluster'])), kmeansdf['Count'])\n",
    "plt.xticks(range(len(kmeansdf['Cluster'])), kmeansdf['Cluster'],\\\n",
    "               rotation = 45, fontsize = 8)\n",
    "plt.xlabel('Cluster ID')\n",
    "plt.ylabel('Count')\n",
    "\n",
    "plt.title('Stations per cluster for k means with 8 clusters')\n",
    "plt.show()\n",
    "\n",
    "\n",
    "\n",
    "unique, counts = np.unique(db_1.labels_, return_counts=True)\n",
    "\n",
    "dbdf=pd.DataFrame({'Cluster':unique, 'Count':counts})\n",
    "\n",
    "dbdf = dbdf.sort_values('Count', ascending = False)\n",
    "\n",
    "fig = plt.figure(figsize=(20, 6))\n",
    "plt.bar(range(len(dbdf['Cluster'])), dbdf['Count'])\n",
    "plt.xticks(range(len(dbdf['Cluster'])), dbdf['Cluster'],\\\n",
    "               rotation = 45, fontsize = 8)\n",
    "plt.xlabel('Cluster ID')\n",
    "plt.ylabel('Count')\n",
    "\n",
    "plt.title('Stations per cluster for DBSCAN with eps=50, min samples = 25 (-1 is noise)')\n",
    "plt.show()\n",
    "\n",
    "\n",
    "unique, counts = np.unique(db_2.labels_, return_counts=True)\n",
    "\n",
    "dbdf=pd.DataFrame({'Cluster':unique, 'Count':counts})\n",
    "\n",
    "dbdf = dbdf.sort_values('Count', ascending = False)\n",
    "\n",
    "fig = plt.figure(figsize=(20, 6))\n",
    "plt.bar(range(len(dbdf['Cluster'])), dbdf['Count'])\n",
    "plt.xticks(range(len(dbdf['Cluster'])), dbdf['Cluster'],\\\n",
    "               rotation = 45, fontsize = 8)\n",
    "plt.xlabel('Cluster ID')\n",
    "plt.ylabel('Count')\n",
    "\n",
    "plt.title('Stations per cluster for DBSCAN with eps=100, min samples = 25 (-1 is noise)')\n",
    "plt.show()\n",
    "\n",
    "\n",
    "\n",
    "unique, counts = np.unique(db_3.labels_, return_counts=True)\n",
    "\n",
    "dbdf=pd.DataFrame({'Cluster':unique, 'Count':counts})\n",
    "\n",
    "dbdf = dbdf.sort_values('Count', ascending = False)\n",
    "\n",
    "fig = plt.figure(figsize=(20, 6))\n",
    "plt.bar(range(len(dbdf['Cluster'])), dbdf['Count'])\n",
    "plt.xticks(range(len(dbdf['Cluster'])), dbdf['Cluster'],\\\n",
    "               rotation = 45, fontsize = 8)\n",
    "plt.xlabel('Cluster ID')\n",
    "plt.ylabel('Count')\n",
    "\n",
    "plt.title('Stations per cluster for DBSCAN with eps=75, min samples = 60 (-1 is noise)')\n",
    "plt.show()"
   ]
  },
  {
   "cell_type": "markdown",
   "metadata": {},
   "source": [
    "### Task 3.3"
   ]
  },
  {
   "cell_type": "code",
   "execution_count": 199,
   "metadata": {},
   "outputs": [
    {
     "data": {
      "image/png": "[encoded data removed]",
      "text/plain": [
       "<Figure size 1440x432 with 1 Axes>"
      ]
     },
     "metadata": {
      "needs_background": "light"
     },
     "output_type": "display_data"
    }
   ],
   "source": [
    "\n",
    "K = range(1,10)\n",
    "inertias = []\n",
    "\n",
    "for k in K:\n",
    "    kmeanModel = cluster.KMeans(n_clusters =k, init = 'k-means++', random_state = 5000)\n",
    "    kmeanModel.fit(combined)\n",
    "    inertias.append(kmeanModel.inertia_)\n",
    "\n",
    "plt.figure(figsize=(20,6))\n",
    "plt.plot(K,inertias, 'bx-')\n",
    "plt.xlabel('K value')\n",
    "plt.ylabel('Distortion')\n",
    "plt.title('Elbow method for optimal K')\n",
    "plt.show()\n"
   ]
  },
  {
   "cell_type": "markdown",
   "metadata": {},
   "source": [
    "From the elbow method, we can see that 4 is the optimal value of K.  From the algorithms I tried, I would use K-means as it provides more useful clustering and DBSCAN produces a lot of outliers. "
   ]
  }
 ],
 "metadata": {
  "anaconda-cloud": {},
  "kernelspec": {
   "display_name": "Python 3 (ipykernel)",
   "language": "python",
   "name": "python3"
  },
  "language_info": {
   "codemirror_mode": {
    "name": "ipython",
    "version": 3
   },
   "file_extension": ".py",
   "mimetype": "text/x-python",
   "name": "python",
   "nbconvert_exporter": "python",
   "pygments_lexer": "ipython3",
   "version": "3.9.7"
  }
 },
 "nbformat": 4,
 "nbformat_minor": 2
}
